{
  "cells": [
    {
      "cell_type": "code",
      "execution_count": 122,
      "metadata": {
        "id": "MhAlE71wGwRU"
      },
      "outputs": [],
      "source": [
        "import torch"
      ]
    },
    {
      "cell_type": "code",
      "source": [
        "print(f\"Поддерживается ли CUDA : {torch.cuda.is_available()}\")\n",
        "print(f'Количество гпу девайсов: {torch.cuda.device_count()}')\n",
        "print(f\"Характеристики видеокарты : {torch.cuda.get_device_properties(0)}\")\n",
        "\n",
        "torch.cuda.empty_cache()\n",
        "\n",
        "device = torch.device(\"cuda:0\" if torch.cuda.is_available() else \"cpu\")\n",
        "print(device)"
      ],
      "metadata": {
        "colab": {
          "base_uri": "https://localhost:8080/"
        },
        "id": "g9jkBetSIQJQ",
        "outputId": "1f6b1389-46c9-45d6-cf34-cc19047243f4"
      },
      "execution_count": 123,
      "outputs": [
        {
          "output_type": "stream",
          "name": "stdout",
          "text": [
            "Поддерживается ли CUDA : True\n",
            "Количество гпу девайсов: 1\n",
            "Характеристики видеокарты : _CudaDeviceProperties(name='Tesla T4', major=7, minor=5, total_memory=15109MB, multi_processor_count=40)\n",
            "cuda:0\n"
          ]
        }
      ]
    },
    {
      "cell_type": "code",
      "execution_count": 124,
      "metadata": {
        "colab": {
          "base_uri": "https://localhost:8080/"
        },
        "id": "vFyYf-c-GwRU",
        "outputId": "024d6718-e952-4b0d-f7c4-b55054d3682e"
      },
      "outputs": [
        {
          "output_type": "stream",
          "name": "stdout",
          "text": [
            "torch.cuda.FloatTensor\n"
          ]
        },
        {
          "output_type": "execute_result",
          "data": {
            "text/plain": [
              "tensor([[[ 0.0364, -1.1209, -0.3689, -0.6887,  0.5063],\n",
              "         [-1.1245,  0.1863,  0.6880, -1.4812, -1.1475],\n",
              "         [-0.4129, -0.0072, -0.6307, -0.2706,  0.3788],\n",
              "         [-0.0654,  0.3361,  0.0322, -2.4554,  2.3167]],\n",
              "\n",
              "        [[-0.1963,  0.5178,  0.1136,  1.1167,  1.5713],\n",
              "         [ 0.2449, -1.2163,  0.1476, -0.3291,  0.2348],\n",
              "         [-0.4144, -0.7224,  1.5283,  0.9703,  0.3563],\n",
              "         [-0.1075, -1.3535, -0.1829, -0.4606,  1.4884]],\n",
              "\n",
              "        [[-1.0873, -1.5436, -0.1006,  1.4502,  2.4190],\n",
              "         [-0.3097,  0.7629, -2.2266,  0.9531,  1.9068],\n",
              "         [ 1.8729,  0.8439, -1.8231, -0.0243, -0.2879],\n",
              "         [-0.4226, -0.3595, -0.4590, -0.2964,  0.3137]]], device='cuda:0')"
            ]
          },
          "metadata": {},
          "execution_count": 124
        }
      ],
      "source": [
        "# 1. Создайте случайный FloatTensor размера 3x4x5\n",
        "a = torch.randn(size=(3, 4, 5)).type(torch.FloatTensor).to(device)\n",
        "print(a.type())\n",
        "a"
      ]
    },
    {
      "cell_type": "code",
      "execution_count": 125,
      "metadata": {
        "colab": {
          "base_uri": "https://localhost:8080/"
        },
        "id": "xpM7fkhrGwRU",
        "outputId": "af347195-6304-4331-a719-ab6cbeaef784"
      },
      "outputs": [
        {
          "output_type": "execute_result",
          "data": {
            "text/plain": [
              "torch.Size([3, 4, 5])"
            ]
          },
          "metadata": {},
          "execution_count": 125
        }
      ],
      "source": [
        "# 2. Выведите его форму (shape)\n",
        "a.shape"
      ]
    },
    {
      "cell_type": "code",
      "execution_count": 126,
      "metadata": {
        "colab": {
          "base_uri": "https://localhost:8080/"
        },
        "id": "up5KoP0mGwRU",
        "outputId": "35b1cfbe-9b1c-4910-e943-3f591ed082e3"
      },
      "outputs": [
        {
          "output_type": "stream",
          "name": "stdout",
          "text": [
            "torch.Size([6, 10])\n"
          ]
        },
        {
          "output_type": "execute_result",
          "data": {
            "text/plain": [
              "tensor([[ 0.0364, -1.1209, -0.3689, -0.6887,  0.5063, -1.1245,  0.1863,  0.6880,\n",
              "         -1.4812, -1.1475],\n",
              "        [-0.4129, -0.0072, -0.6307, -0.2706,  0.3788, -0.0654,  0.3361,  0.0322,\n",
              "         -2.4554,  2.3167],\n",
              "        [-0.1963,  0.5178,  0.1136,  1.1167,  1.5713,  0.2449, -1.2163,  0.1476,\n",
              "         -0.3291,  0.2348],\n",
              "        [-0.4144, -0.7224,  1.5283,  0.9703,  0.3563, -0.1075, -1.3535, -0.1829,\n",
              "         -0.4606,  1.4884],\n",
              "        [-1.0873, -1.5436, -0.1006,  1.4502,  2.4190, -0.3097,  0.7629, -2.2266,\n",
              "          0.9531,  1.9068],\n",
              "        [ 1.8729,  0.8439, -1.8231, -0.0243, -0.2879, -0.4226, -0.3595, -0.4590,\n",
              "         -0.2964,  0.3137]], device='cuda:0')"
            ]
          },
          "metadata": {},
          "execution_count": 126
        }
      ],
      "source": [
        "# 3. Приведите его к форме 6х10\n",
        "\n",
        "b = a.reshape(6, 10)\n",
        "print(b.shape)\n",
        "b"
      ]
    },
    {
      "cell_type": "code",
      "execution_count": 127,
      "metadata": {
        "colab": {
          "base_uri": "https://localhost:8080/"
        },
        "id": "xSsr2Ao9GwRU",
        "outputId": "90e03be3-3af1-45f5-9ab2-5ca4fe6090ee"
      },
      "outputs": [
        {
          "output_type": "stream",
          "name": "stdout",
          "text": [
            "torch.cuda.IntTensor\n"
          ]
        },
        {
          "output_type": "execute_result",
          "data": {
            "text/plain": [
              "tensor([25, 40, 30, 20, 17, 18, 34, 21, 25, 23], device='cuda:0',\n",
              "       dtype=torch.int32)"
            ]
          },
          "metadata": {},
          "execution_count": 127
        }
      ],
      "source": [
        "# 4. Создайте случайный IntTensor размера 10\n",
        "\n",
        "w = torch.randint(50, size=(10,)).type(torch.IntTensor).to(device)\n",
        "print(w.type())\n",
        "w"
      ]
    },
    {
      "cell_type": "code",
      "source": [
        "# 5. Умножьте созданный FloatTensor на созданный IntTensor поэлементно\n",
        "\n",
        "b * w"
      ],
      "metadata": {
        "colab": {
          "base_uri": "https://localhost:8080/"
        },
        "id": "_KIZRaX1c7lQ",
        "outputId": "32f0b4ab-cb24-4129-cd29-ee927dcf5dfc"
      },
      "execution_count": 128,
      "outputs": [
        {
          "output_type": "execute_result",
          "data": {
            "text/plain": [
              "tensor([[  0.9104, -44.8361, -11.0671, -13.7737,   8.6074, -20.2413,   6.3359,\n",
              "          14.4488, -37.0288, -26.3917],\n",
              "        [-10.3222,  -0.2895, -18.9204,  -5.4128,   6.4401,  -1.1765,  11.4290,\n",
              "           0.6758, -61.3845,  53.2852],\n",
              "        [ -4.9077,  20.7112,   3.4075,  22.3334,  26.7129,   4.4079, -41.3549,\n",
              "           3.0987,  -8.2285,   5.4012],\n",
              "        [-10.3597, -28.8958,  45.8495,  19.4067,   6.0579,  -1.9357, -46.0203,\n",
              "          -3.8399, -11.5160,  34.2334],\n",
              "        [-27.1837, -61.7453,  -3.0186,  29.0031,  41.1231,  -5.5750,  25.9401,\n",
              "         -46.7577,  23.8278,  43.8559],\n",
              "        [ 46.8231,  33.7569, -54.6922,  -0.4866,  -4.8944,  -7.6075, -12.2240,\n",
              "          -9.6397,  -7.4100,   7.2147]], device='cuda:0')"
            ]
          },
          "metadata": {},
          "execution_count": 128
        }
      ]
    },
    {
      "cell_type": "code",
      "execution_count": 129,
      "metadata": {
        "colab": {
          "base_uri": "https://localhost:8080/"
        },
        "id": "YbZQgsqEGwRU",
        "outputId": "69f332f0-f496-47e9-8904-575c740b9ffc"
      },
      "outputs": [
        {
          "output_type": "execute_result",
          "data": {
            "text/plain": [
              "tensor([[ 7.4076,  1.7406, -0.7853, -1.5397, -2.6873, -0.1627],\n",
              "        [ 1.7406, 12.2996,  1.2308,  3.2103,  3.3298,  1.6144],\n",
              "        [-0.7853,  1.2308,  5.7603,  3.6186,  3.6249, -0.1801],\n",
              "        [-1.5397,  3.2103,  3.6186,  8.4025,  5.4878, -3.0788],\n",
              "        [-2.6873,  3.3298,  3.6249,  5.4878, 21.7096, -2.6932],\n",
              "        [-0.1627,  1.6144, -0.1801, -3.0788, -2.6932,  8.3320]],\n",
              "       device='cuda:0')"
            ]
          },
          "metadata": {},
          "execution_count": 129
        }
      ],
      "source": [
        "# 6. Умножьте тензор матрично на себя, чтобы результат был размерности 6x6\n",
        "# Подсказка: .dot может не подойти\n",
        "\n",
        "b @ b.T"
      ]
    },
    {
      "cell_type": "code",
      "execution_count": 130,
      "metadata": {
        "colab": {
          "base_uri": "https://localhost:8080/"
        },
        "id": "5z9k7gMoGwRU",
        "outputId": "0f2b7b21-ca04-4342-bc49-a92623874936"
      },
      "outputs": [
        {
          "output_type": "execute_result",
          "data": {
            "text/plain": [
              "(tensor([3.]), tensor([1.]), tensor([-75.]))"
            ]
          },
          "metadata": {},
          "execution_count": 130
        }
      ],
      "source": [
        "# 7. Посчитайте производную функции y = x**3 + z - 75t в точке (1, 0.5, 2)\n",
        "\n",
        "x = torch.tensor([1.], requires_grad=True)\n",
        "z = torch.tensor([0.5], requires_grad=True)\n",
        "t = torch.tensor([2.], requires_grad=True)\n",
        "\n",
        "y = x ** 3 + z - 75 * t\n",
        "y.backward()\n",
        "\n",
        "x.grad, z.grad, t.grad"
      ]
    },
    {
      "cell_type": "code",
      "execution_count": 131,
      "metadata": {
        "colab": {
          "base_uri": "https://localhost:8080/"
        },
        "id": "Z6TON6gHGwRU",
        "outputId": "55c87b4f-ce86-42ef-b2dd-06e1c646d7d2"
      },
      "outputs": [
        {
          "output_type": "execute_result",
          "data": {
            "text/plain": [
              "tensor([[1., 1., 1., 1., 1., 1.],\n",
              "        [1., 1., 1., 1., 1., 1.],\n",
              "        [1., 1., 1., 1., 1., 1.],\n",
              "        [1., 1., 1., 1., 1., 1.],\n",
              "        [1., 1., 1., 1., 1., 1.]], device='cuda:0')"
            ]
          },
          "metadata": {},
          "execution_count": 131
        }
      ],
      "source": [
        "# 8. Создайте единичный тензор размера 5x6\n",
        "\n",
        "e = torch.ones(size=(5, 6), device=device)\n",
        "e"
      ]
    },
    {
      "cell_type": "code",
      "execution_count": 132,
      "metadata": {
        "colab": {
          "base_uri": "https://localhost:8080/"
        },
        "id": "R9O3PHWQGwRU",
        "outputId": "d0863f60-3fb4-4f4c-f162-6ac1f5067163"
      },
      "outputs": [
        {
          "output_type": "execute_result",
          "data": {
            "text/plain": [
              "array([[1., 1., 1., 1., 1., 1.],\n",
              "       [1., 1., 1., 1., 1., 1.],\n",
              "       [1., 1., 1., 1., 1., 1.],\n",
              "       [1., 1., 1., 1., 1., 1.],\n",
              "       [1., 1., 1., 1., 1., 1.]], dtype=float32)"
            ]
          },
          "metadata": {},
          "execution_count": 132
        }
      ],
      "source": [
        "# 9. Переведите его в формат numpy\n",
        "\n",
        "e.to('cpu').numpy()"
      ]
    }
  ],
  "metadata": {
    "kernelspec": {
      "display_name": "Python 3",
      "language": "python",
      "name": "python3"
    },
    "language_info": {
      "codemirror_mode": {
        "name": "ipython",
        "version": 3
      },
      "file_extension": ".py",
      "mimetype": "text/x-python",
      "name": "python",
      "nbconvert_exporter": "python",
      "pygments_lexer": "ipython3",
      "version": "3.7.4"
    },
    "colab": {
      "name": "HW_1.ipynb",
      "provenance": [],
      "collapsed_sections": []
    },
    "accelerator": "GPU",
    "gpuClass": "standard"
  },
  "nbformat": 4,
  "nbformat_minor": 0
}