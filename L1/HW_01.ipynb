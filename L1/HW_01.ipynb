{
 "cells": [
  {
   "cell_type": "code",
   "metadata": {
    "cell_id": "9d5bef46-cdc7-48d0-a266-bf6b57a5c0b9",
    "deepnote_to_be_reexecuted": false,
    "source_hash": "dd32fe6c",
    "execution_start": 1644140194362,
    "execution_millis": 3149,
    "deepnote_cell_type": "code"
   },
   "source": "import torch",
   "execution_count": 1,
   "outputs": []
  },
  {
   "cell_type": "code",
   "metadata": {
    "cell_id": "00001-5460a7c7-c049-440a-8dc4-983470714360",
    "deepnote_to_be_reexecuted": false,
    "source_hash": "8526cb46",
    "execution_start": 1644140197518,
    "execution_millis": 98,
    "deepnote_output_heights": [
     271
    ],
    "deepnote_cell_type": "code"
   },
   "source": "# Создайте случайный FloatTensor размера 3x4x5\n\nrand_tensor = torch.randn((3, 4, 5))\nrand_tensor",
   "execution_count": 2,
   "outputs": [
    {
     "output_type": "execute_result",
     "execution_count": 2,
     "data": {
      "text/plain": "tensor([[[ 1.4161,  0.8138,  0.5151,  0.8583,  0.6033],\n         [-1.2834,  1.0560,  1.4298, -0.3610, -0.6701],\n         [ 2.2825, -0.9691, -0.6821, -0.0910, -1.0592],\n         [ 0.7938, -0.6766, -0.6855, -0.2699, -0.1856]],\n\n        [[ 0.5758, -0.9846, -0.1412,  0.0743, -0.1331],\n         [ 1.1045,  2.7017,  0.7415,  0.2941, -0.3186],\n         [ 0.5598,  0.3069, -0.6652, -0.2786, -0.3763],\n         [-0.8699,  0.0423, -0.9113,  1.1598, -1.1181]],\n\n        [[ 0.5995,  0.3600,  0.3421,  0.4500, -0.4022],\n         [ 0.3573,  0.9186,  0.5857, -2.5608, -0.0843],\n         [-0.0636, -0.0394,  0.7251,  2.0815,  0.3415],\n         [ 1.0498, -0.6210,  1.1402,  0.7392, -0.2321]]])"
     },
     "metadata": {}
    }
   ]
  },
  {
   "cell_type": "code",
   "metadata": {
    "cell_id": "00002-03806e80-99e5-4430-9a91-2bfbeef15658",
    "deepnote_to_be_reexecuted": false,
    "source_hash": "36f63537",
    "execution_start": 1644140197628,
    "execution_millis": 12,
    "deepnote_output_heights": [
     21
    ],
    "deepnote_cell_type": "code"
   },
   "source": "# Выведите его форму (shape)\nrand_tensor.shape",
   "execution_count": 3,
   "outputs": [
    {
     "output_type": "execute_result",
     "execution_count": 3,
     "data": {
      "text/plain": "torch.Size([3, 4, 5])"
     },
     "metadata": {}
    }
   ]
  },
  {
   "cell_type": "code",
   "metadata": {
    "cell_id": "00003-e86da4b3-873c-4d39-b7bf-447a5258b1bb",
    "deepnote_to_be_reexecuted": false,
    "source_hash": "d03f1ca4",
    "execution_start": 1644140197647,
    "execution_millis": 12,
    "deepnote_output_heights": [
     232
    ],
    "deepnote_cell_type": "code"
   },
   "source": "# Приведите его к форме 6 X 10\nrand_tensor_mod = rand_tensor.reshape(6, 10)\nrand_tensor_mod",
   "execution_count": 4,
   "outputs": [
    {
     "output_type": "execute_result",
     "execution_count": 4,
     "data": {
      "text/plain": "tensor([[ 1.4161,  0.8138,  0.5151,  0.8583,  0.6033, -1.2834,  1.0560,  1.4298,\n         -0.3610, -0.6701],\n        [ 2.2825, -0.9691, -0.6821, -0.0910, -1.0592,  0.7938, -0.6766, -0.6855,\n         -0.2699, -0.1856],\n        [ 0.5758, -0.9846, -0.1412,  0.0743, -0.1331,  1.1045,  2.7017,  0.7415,\n          0.2941, -0.3186],\n        [ 0.5598,  0.3069, -0.6652, -0.2786, -0.3763, -0.8699,  0.0423, -0.9113,\n          1.1598, -1.1181],\n        [ 0.5995,  0.3600,  0.3421,  0.4500, -0.4022,  0.3573,  0.9186,  0.5857,\n         -2.5608, -0.0843],\n        [-0.0636, -0.0394,  0.7251,  2.0815,  0.3415,  1.0498, -0.6210,  1.1402,\n          0.7392, -0.2321]])"
     },
     "metadata": {}
    }
   ]
  },
  {
   "cell_type": "code",
   "metadata": {
    "cell_id": "00004-8aac032a-61aa-41fa-9ac8-d453c8abb9e4",
    "deepnote_to_be_reexecuted": false,
    "source_hash": "9304a05f",
    "execution_start": 1644140197664,
    "execution_millis": 46,
    "deepnote_output_heights": [
     271
    ],
    "deepnote_cell_type": "code"
   },
   "source": "# Умножьте его на вектор [1, 4, 2, 2, 1] поэлементно\na = torch.Tensor([1, 4, 2, 2, 1])\n\n# Видимо имеется в виду умножить изначальный тензор с размерами (3, 4, 5) на заданный вектор?\n# Или нужно размножить вектор a, чтобы он имел размерность (1, 10)?\n\nrand_tensor * a",
   "execution_count": 5,
   "outputs": [
    {
     "output_type": "execute_result",
     "execution_count": 5,
     "data": {
      "text/plain": "tensor([[[ 1.4161,  3.2551,  1.0302,  1.7167,  0.6033],\n         [-1.2834,  4.2242,  2.8595, -0.7220, -0.6701],\n         [ 2.2825, -3.8762, -1.3641, -0.1821, -1.0592],\n         [ 0.7938, -2.7062, -1.3710, -0.5398, -0.1856]],\n\n        [[ 0.5758, -3.9386, -0.2824,  0.1487, -0.1331],\n         [ 1.1045, 10.8069,  1.4831,  0.5882, -0.3186],\n         [ 0.5598,  1.2277, -1.3304, -0.5573, -0.3763],\n         [-0.8699,  0.1693, -1.8226,  2.3195, -1.1181]],\n\n        [[ 0.5995,  1.4399,  0.6842,  0.8999, -0.4022],\n         [ 0.3573,  3.6744,  1.1714, -5.1217, -0.0843],\n         [-0.0636, -0.1574,  1.4503,  4.1630,  0.3415],\n         [ 1.0498, -2.4840,  2.2804,  1.4783, -0.2321]]])"
     },
     "metadata": {}
    }
   ]
  },
  {
   "cell_type": "code",
   "metadata": {
    "cell_id": "0e7cf018-4b29-45e0-a284-a25ccaceab9a",
    "tags": [],
    "deepnote_to_be_reexecuted": false,
    "source_hash": "69818c72",
    "execution_start": 1644140197708,
    "execution_millis": 2,
    "deepnote_output_heights": [
     232
    ],
    "deepnote_cell_type": "code"
   },
   "source": "rand_tensor_mod * a.repeat(int(rand_tensor_mod.shape[1] / a.shape[0]))",
   "execution_count": 6,
   "outputs": [
    {
     "output_type": "execute_result",
     "execution_count": 6,
     "data": {
      "text/plain": "tensor([[ 1.4161,  3.2551,  1.0302,  1.7167,  0.6033, -1.2834,  4.2242,  2.8595,\n         -0.7220, -0.6701],\n        [ 2.2825, -3.8762, -1.3641, -0.1821, -1.0592,  0.7938, -2.7062, -1.3710,\n         -0.5398, -0.1856],\n        [ 0.5758, -3.9386, -0.2824,  0.1487, -0.1331,  1.1045, 10.8069,  1.4831,\n          0.5882, -0.3186],\n        [ 0.5598,  1.2277, -1.3304, -0.5573, -0.3763, -0.8699,  0.1693, -1.8226,\n          2.3195, -1.1181],\n        [ 0.5995,  1.4399,  0.6842,  0.8999, -0.4022,  0.3573,  3.6744,  1.1714,\n         -5.1217, -0.0843],\n        [-0.0636, -0.1574,  1.4503,  4.1630,  0.3415,  1.0498, -2.4840,  2.2804,\n          1.4783, -0.2321]])"
     },
     "metadata": {}
    }
   ]
  },
  {
   "cell_type": "code",
   "metadata": {
    "cell_id": "00005-a11a801e-0705-483a-b2e9-a9851f33ef93",
    "deepnote_to_be_reexecuted": false,
    "source_hash": "c3f23867",
    "execution_start": 1644140197751,
    "execution_millis": 4,
    "deepnote_output_heights": [
     117
    ],
    "deepnote_cell_type": "code"
   },
   "source": "# Умножьте тензор матрично на себя, чтобы результат был размерности 6x6\n\nrand_tensor_mod @ rand_tensor_mod.T",
   "execution_count": 7,
   "outputs": [
    {
     "output_type": "execute_result",
     "execution_count": 7,
     "data": {
      "text/plain": "tensor([[ 9.4197, -1.1164,  2.5281,  0.4223,  3.7917,  1.7598],\n        [-1.1164,  9.4094,  1.0193,  1.6581,  1.1388, -0.8374],\n        [ 2.5281,  1.0193, 10.6014, -0.6814,  2.6140,  0.6276],\n        [ 0.4223,  1.6581, -0.6814,  5.2535, -3.4370, -2.1003],\n        [ 3.7917,  1.1388,  2.6140, -3.4370,  8.8499, -0.4058],\n        [ 1.7598, -0.8374,  0.6276, -2.1003, -0.4058,  8.3687]])"
     },
     "metadata": {}
    }
   ]
  },
  {
   "cell_type": "code",
   "metadata": {
    "cell_id": "00006-c6ef8962-3ba6-4b07-bf8d-c127d3caec68",
    "deepnote_to_be_reexecuted": false,
    "source_hash": "1fc67d31",
    "execution_start": 1644140197754,
    "execution_millis": 19,
    "deepnote_output_heights": [
     21
    ],
    "deepnote_cell_type": "code"
   },
   "source": "# Посчитайте производную функции y = x**3 + z - 75t в точке (1, 0.5, 2)\n\nfrom torch.autograd import Variable\n\nx = Variable(torch.Tensor([1]), requires_grad=True)\nz = Variable(torch.Tensor([0.5]), requires_grad=True)\nt = Variable(torch.Tensor([2]), requires_grad=True)\n\ny = x**3 + z - 75 * t\ny.backward()\n\nprint('dy/dx: ', x.grad) \nprint('dy/dz: ', z.grad)\nprint('dy/dt: ', t.grad)",
   "execution_count": 8,
   "outputs": [
    {
     "name": "stdout",
     "text": "dy/dx:  tensor([3.])\ndy/dz:  tensor([1.])\ndy/dt:  tensor([-75.])\n",
     "output_type": "stream"
    }
   ]
  },
  {
   "cell_type": "code",
   "metadata": {
    "cell_id": "00007-70abfc39-9ce3-4cc2-9ee1-a0f741bf9509",
    "deepnote_to_be_reexecuted": false,
    "source_hash": "7e13f302",
    "execution_start": 1644140197779,
    "execution_millis": 9,
    "deepnote_output_heights": [
     98
    ],
    "deepnote_cell_type": "code"
   },
   "source": "# Создайте единичный тензор размера 5x6\ne = torch.ones((5, 6))\ne",
   "execution_count": 9,
   "outputs": [
    {
     "output_type": "execute_result",
     "execution_count": 9,
     "data": {
      "text/plain": "tensor([[1., 1., 1., 1., 1., 1.],\n        [1., 1., 1., 1., 1., 1.],\n        [1., 1., 1., 1., 1., 1.],\n        [1., 1., 1., 1., 1., 1.],\n        [1., 1., 1., 1., 1., 1.]])"
     },
     "metadata": {}
    }
   ]
  },
  {
   "cell_type": "code",
   "metadata": {
    "cell_id": "00008-f2b644e5-ff13-4e05-8041-109e5d38f912",
    "deepnote_to_be_reexecuted": false,
    "source_hash": "d22d67e8",
    "execution_start": 1644140197843,
    "execution_millis": 4,
    "deepnote_output_heights": [
     98
    ],
    "deepnote_cell_type": "code"
   },
   "source": "# Переведите его в формат numpy\ne = e.numpy()\ne",
   "execution_count": 10,
   "outputs": [
    {
     "output_type": "execute_result",
     "execution_count": 10,
     "data": {
      "text/plain": "array([[1., 1., 1., 1., 1., 1.],\n       [1., 1., 1., 1., 1., 1.],\n       [1., 1., 1., 1., 1., 1.],\n       [1., 1., 1., 1., 1., 1.],\n       [1., 1., 1., 1., 1., 1.]], dtype=float32)"
     },
     "metadata": {}
    }
   ]
  },
  {
   "cell_type": "code",
   "metadata": {
    "cell_id": "00009-d80c7a59-df96-4234-a6c8-caa8053bacd1",
    "deepnote_to_be_reexecuted": false,
    "source_hash": "e519ed67",
    "execution_start": 1644140197844,
    "execution_millis": 0,
    "deepnote_cell_type": "code"
   },
   "source": "# возьмите функцию y = x**w1 - 2 * x**2 + 5\n# Посчитайте \n\n## Не понятно, что требуется в данном задании",
   "execution_count": 11,
   "outputs": []
  },
  {
   "cell_type": "markdown",
   "source": "extra *\n\nhttps://www.tensorflow.org/tutorials/quickstart/beginner",
   "metadata": {
    "cell_id": "bb0a1238-1fba-4cde-98fc-3b3c49e297e4",
    "tags": [],
    "deepnote_cell_type": "markdown"
   }
  },
  {
   "cell_type": "code",
   "metadata": {
    "cell_id": "d9fb3473-f955-4766-bacc-1816fcccd89e",
    "tags": [],
    "deepnote_to_be_reexecuted": false,
    "source_hash": "58de1d54",
    "execution_start": 1644140197845,
    "execution_millis": 260281016,
    "deepnote_output_heights": [
     21
    ],
    "deepnote_cell_type": "code"
   },
   "source": "torch.__version__",
   "execution_count": 12,
   "outputs": [
    {
     "output_type": "execute_result",
     "execution_count": 12,
     "data": {
      "text/plain": "'1.10.0+cu102'"
     },
     "metadata": {}
    }
   ]
  },
  {
   "cell_type": "code",
   "metadata": {
    "cell_id": "93648a78-b421-4df2-bad9-166cdc73d37f",
    "tags": [],
    "deepnote_to_be_reexecuted": false,
    "source_hash": "2104194b",
    "execution_start": 1644140197887,
    "execution_millis": 420,
    "deepnote_cell_type": "code"
   },
   "source": "# !pip install ipywidgets\nimport torchvision\nimport torch.nn as nn\n\nfrom torch.utils.data import DataLoader",
   "execution_count": 13,
   "outputs": []
  },
  {
   "cell_type": "code",
   "metadata": {
    "cell_id": "ac316dc6-3dc5-4460-b40e-8cc517fbb1d6",
    "tags": [],
    "deepnote_to_be_reexecuted": false,
    "source_hash": "3ac7612f",
    "execution_start": 1644140198317,
    "execution_millis": 169,
    "deepnote_output_heights": [
     611,
     611
    ],
    "deepnote_cell_type": "code"
   },
   "source": "train_dataset = torchvision.datasets.MNIST(\n    root='files/train', train=True, download=True, transform=torchvision.transforms.ToTensor())\n\ntest_dataset = torchvision.datasets.MNIST(\n    root='files/test', train=False, download=True, transform=torchvision.transforms.ToTensor())",
   "execution_count": 14,
   "outputs": []
  },
  {
   "cell_type": "code",
   "metadata": {
    "cell_id": "acccc845-dd41-4d33-aa52-361ba40f970f",
    "tags": [],
    "deepnote_to_be_reexecuted": false,
    "source_hash": "1d74d930",
    "execution_start": 1644140198543,
    "execution_millis": 0,
    "deepnote_output_heights": [
     21,
     250
    ],
    "deepnote_cell_type": "code"
   },
   "source": "# На основе класса модели и функций для обучения, предложенных в документации\n\nclass Model(nn.Module):\n    def __init__(self):\n        super(Model, self).__init__()\n        self.model_layers = nn.Sequential(\n            nn.Flatten(),\n            nn.Linear(28*28, 128),\n            nn.ReLU(),\n            nn.Dropout(0.2),\n            nn.Linear(128, 10)\n        )\n\n    def forward(self, x):\n        logits = self.model_layers(x)\n        return logits\n\nmodel = Model()",
   "execution_count": 15,
   "outputs": []
  },
  {
   "cell_type": "code",
   "metadata": {
    "cell_id": "17941918-ba8a-4b1d-b01f-047b79dfc421",
    "tags": [],
    "deepnote_to_be_reexecuted": false,
    "source_hash": "9c169bc3",
    "execution_start": 1644140198544,
    "execution_millis": 0,
    "deepnote_cell_type": "code"
   },
   "source": "def train_loop(dataloader, model, loss_fn, optimizer):\n    model.train()\n    size = len(dataloader.dataset)\n    correct = 0\n\n    for batch, (X, y) in enumerate(dataloader):\n        # Compute prediction and loss\n        pred = model(X)\n        loss = loss_fn(pred, y)\n\n        # Backpropagation\n        optimizer.zero_grad()\n        loss.backward()\n        optimizer.step()\n\n        if batch % 400 == 0:\n            loss, current = loss.item(), batch * len(X)    \n            print(f\"loss: {loss:>7f}  [{current:>5d}/{size:>5d}]\")\n        \n        correct += (pred.argmax(1) == y).type(torch.float).sum().item()\n\n    correct /= size\n    print(f'Train_ Accuracy: {(100*correct):>0.1f}%')\n\ndef test_eval(dataloader, model, loss_fn):\n    size = len(dataloader.dataset)\n    num_batches = len(dataloader)\n    test_loss, correct = 0, 0\n\n    with torch.no_grad():\n        for X, y in dataloader:\n            pred = model(X)\n            test_loss += loss_fn(pred, y).item()\n            correct += (pred.argmax(1) == y).type(torch.float).sum().item()\n\n    test_loss /= num_batches\n    correct /= size\n    print(f\"Test Error: \\n Accuracy: {(100*correct):>0.1f}%, Avg loss: {test_loss:>8f} \\n\")",
   "execution_count": 16,
   "outputs": []
  },
  {
   "cell_type": "code",
   "metadata": {
    "cell_id": "5e2a45b5-05ff-44c8-b148-969782376af8",
    "tags": [],
    "deepnote_to_be_reexecuted": false,
    "source_hash": "25238d82",
    "execution_start": 1644140198544,
    "execution_millis": 82863,
    "deepnote_cell_type": "code"
   },
   "source": "learning_rate = 1e-2\nbatch_size = 32\nepochs = 5\n\ntrain_dataloader = DataLoader(train_dataset, batch_size=batch_size)\ntest_dataloader = DataLoader(test_dataset, batch_size=batch_size)\n\n\nloss_fn = nn.CrossEntropyLoss()\noptimizer = torch.optim.Adam(model.parameters(), lr=learning_rate)\n\nfor t in range(epochs):\n    print(f\"Epoch {t+1}\\n-------------------------------\")\n    train_loop(train_dataloader, model, loss_fn, optimizer)\n\ntest_eval(test_dataloader, model, loss_fn)",
   "execution_count": 17,
   "outputs": [
    {
     "name": "stdout",
     "text": "Epoch 1\n-------------------------------\nloss: 2.297778  [    0/60000]\nloss: 0.284823  [12800/60000]\nloss: 0.338857  [25600/60000]\nloss: 0.160077  [38400/60000]\nloss: 0.194211  [51200/60000]\nTrain_ Accuracy: 90.7%\nEpoch 2\n-------------------------------\nloss: 0.171326  [    0/60000]\nloss: 0.418745  [12800/60000]\nloss: 0.111362  [25600/60000]\nloss: 0.354188  [38400/60000]\nloss: 0.202793  [51200/60000]\nTrain_ Accuracy: 92.9%\nEpoch 3\n-------------------------------\nloss: 0.164735  [    0/60000]\nloss: 0.306621  [12800/60000]\nloss: 0.115215  [25600/60000]\nloss: 0.272084  [38400/60000]\nloss: 0.165195  [51200/60000]\nTrain_ Accuracy: 93.7%\nEpoch 4\n-------------------------------\nloss: 0.037961  [    0/60000]\nloss: 0.432489  [12800/60000]\nloss: 0.314625  [25600/60000]\nloss: 0.274421  [38400/60000]\nloss: 0.190835  [51200/60000]\nTrain_ Accuracy: 94.2%\nEpoch 5\n-------------------------------\nloss: 0.036200  [    0/60000]\nloss: 0.250929  [12800/60000]\nloss: 0.101584  [25600/60000]\nloss: 0.297297  [38400/60000]\nloss: 0.280802  [51200/60000]\nTrain_ Accuracy: 94.8%\nTest Error: \n Accuracy: 91.6%, Avg loss: 0.379059 \n\n",
     "output_type": "stream"
    }
   ]
  },
  {
   "cell_type": "code",
   "metadata": {
    "cell_id": "53767423-c33b-4c47-b63d-132f9f7d9ecc",
    "tags": [],
    "deepnote_to_be_reexecuted": false,
    "source_hash": "b623e53d",
    "execution_start": 1644140281409,
    "execution_millis": 1,
    "deepnote_cell_type": "code"
   },
   "source": "",
   "execution_count": 17,
   "outputs": []
  },
  {
   "cell_type": "markdown",
   "source": "<a style='text-decoration:none;line-height:16px;display:flex;color:#5B5B62;padding:10px;justify-content:end;' href='https://deepnote.com?utm_source=created-in-deepnote-cell&projectId=547184c2-9c54-4234-82c9-4dd0d2e4822e' target=\"_blank\">\n<img alt='Created in deepnote.com' style='display:inline;max-height:16px;margin:0px;margin-right:7.5px;' src='data:image/svg+xml;base64,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' > </img>\nCreated in <span style='font-weight:600;margin-left:4px;'>Deepnote</span></a>",
   "metadata": {
    "tags": [],
    "created_in_deepnote_cell": true,
    "deepnote_cell_type": "markdown"
   }
  }
 ],
 "nbformat": 4,
 "nbformat_minor": 2,
 "metadata": {
  "kernelspec": {
   "display_name": "Python 3",
   "language": "python",
   "name": "python3"
  },
  "language_info": {
   "codemirror_mode": {
    "name": "ipython",
    "version": 3
   },
   "file_extension": ".py",
   "mimetype": "text/x-python",
   "name": "python",
   "nbconvert_exporter": "python",
   "pygments_lexer": "ipython3",
   "version": "3.7.4"
  },
  "deepnote_notebook_id": "4a43e61f-3df5-4a01-ae45-d58694dcef8c",
  "deepnote": {},
  "deepnote_execution_queue": []
 }
}