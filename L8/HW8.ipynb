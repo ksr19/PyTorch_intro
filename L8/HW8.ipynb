{
 "cells": [
  {
   "cell_type": "markdown",
   "id": "1a3ea5c9",
   "metadata": {
    "id": "DrK6A_AWv0VE",
    "papermill": {
     "duration": 0.006291,
     "end_time": "2022-07-22T20:24:57.699505",
     "exception": false,
     "start_time": "2022-07-22T20:24:57.693214",
     "status": "completed"
    },
    "tags": []
   },
   "source": [
    "## Домашнее задание 8\n",
    "1. Обучить генератор создавать точки, которые будут лежать на графике функции \n",
    " $$y = \\frac{sin(x)}{x} - \\frac{x}{10}$$\n",
    "При выполнении данного задания структура GAN остается той же, но Вам нужно:\n",
    "- Сгенерировать настоящие данные\n",
    "- Изменить архитектуру дискриминатора и генератора\n",
    "- Построить графики"
   ]
  },
  {
   "cell_type": "markdown",
   "id": "e4cb062b",
   "metadata": {
    "id": "WoE-A4ORv0j4",
    "papermill": {
     "duration": 0.004987,
     "end_time": "2022-07-22T20:24:57.709824",
     "exception": false,
     "start_time": "2022-07-22T20:24:57.704837",
     "status": "completed"
    },
    "tags": []
   },
   "source": [
    "## Решение"
   ]
  },
  {
   "cell_type": "markdown",
   "id": "ca6014bd",
   "metadata": {
    "id": "eJ8Cntmvv0n0",
    "papermill": {
     "duration": 0.005508,
     "end_time": "2022-07-22T20:24:57.720705",
     "exception": false,
     "start_time": "2022-07-22T20:24:57.715197",
     "status": "completed"
    },
    "tags": []
   },
   "source": [
    "Импортируем необходимые библиотеки."
   ]
  },
  {
   "cell_type": "code",
   "execution_count": 1,
   "id": "a40f1068",
   "metadata": {
    "execution": {
     "iopub.execute_input": "2022-07-22T20:24:57.737188Z",
     "iopub.status.busy": "2022-07-22T20:24:57.736170Z",
     "iopub.status.idle": "2022-07-22T20:25:00.816491Z",
     "shell.execute_reply": "2022-07-22T20:25:00.815437Z"
    },
    "id": "EUoBNJMpvdjT",
    "papermill": {
     "duration": 3.093504,
     "end_time": "2022-07-22T20:25:00.819512",
     "exception": false,
     "start_time": "2022-07-22T20:24:57.726008",
     "status": "completed"
    },
    "tags": []
   },
   "outputs": [],
   "source": [
    "import os\n",
    "import numpy as np\n",
    "import math\n",
    "\n",
    "from torch.utils.data import DataLoader\n",
    "import torchvision.transforms as transforms\n",
    "from torchvision import datasets\n",
    "from torch.autograd import Variable\n",
    "\n",
    "import torch.nn as nn\n",
    "import torch\n",
    "\n",
    "import matplotlib.pyplot as plt\n",
    "from IPython import display\n",
    "from sklearn.model_selection import train_test_split\n",
    "import matplotlib.patches as mpatches"
   ]
  },
  {
   "cell_type": "markdown",
   "id": "bb5e25e6",
   "metadata": {
    "id": "oYXDhKI0xFMg",
    "papermill": {
     "duration": 0.005322,
     "end_time": "2022-07-22T20:25:00.830603",
     "exception": false,
     "start_time": "2022-07-22T20:25:00.825281",
     "status": "completed"
    },
    "tags": []
   },
   "source": [
    "Проверим систему на наличие видеокарты, которую можно будет использовать в процессе обучения."
   ]
  },
  {
   "cell_type": "code",
   "execution_count": 2,
   "id": "1575c503",
   "metadata": {
    "execution": {
     "iopub.execute_input": "2022-07-22T20:25:00.843209Z",
     "iopub.status.busy": "2022-07-22T20:25:00.842780Z",
     "iopub.status.idle": "2022-07-22T20:25:00.908352Z",
     "shell.execute_reply": "2022-07-22T20:25:00.907358Z"
    },
    "id": "AE8d4LZhxMZo",
    "outputId": "937895c0-db40-4166-fc67-88990e3e26fc",
    "papermill": {
     "duration": 0.074832,
     "end_time": "2022-07-22T20:25:00.911143",
     "exception": false,
     "start_time": "2022-07-22T20:25:00.836311",
     "status": "completed"
    },
    "tags": []
   },
   "outputs": [
    {
     "data": {
      "text/plain": [
       "'cuda'"
      ]
     },
     "execution_count": 2,
     "metadata": {},
     "output_type": "execute_result"
    }
   ],
   "source": [
    "device = 'cuda' if torch.cuda.is_available() else 'cpu'\n",
    "device"
   ]
  },
  {
   "cell_type": "markdown",
   "id": "f366142b",
   "metadata": {
    "id": "i1jx9jSWyY_t",
    "papermill": {
     "duration": 0.005209,
     "end_time": "2022-07-22T20:25:00.921877",
     "exception": false,
     "start_time": "2022-07-22T20:25:00.916668",
     "status": "completed"
    },
    "tags": []
   },
   "source": [
    "Сгенерим данные, которые будут использоваться для обучения нашей модели."
   ]
  },
  {
   "cell_type": "code",
   "execution_count": 3,
   "id": "69a67a07",
   "metadata": {
    "execution": {
     "iopub.execute_input": "2022-07-22T20:25:00.934458Z",
     "iopub.status.busy": "2022-07-22T20:25:00.933640Z",
     "iopub.status.idle": "2022-07-22T20:25:01.294921Z",
     "shell.execute_reply": "2022-07-22T20:25:01.293984Z"
    },
    "id": "PSJed-adxf2K",
    "outputId": "32b0addc-79fd-4730-e0e4-7ac2ad642064",
    "papermill": {
     "duration": 0.369676,
     "end_time": "2022-07-22T20:25:01.296929",
     "exception": false,
     "start_time": "2022-07-22T20:25:00.927253",
     "status": "completed"
    },
    "tags": []
   },
   "outputs": [
    {
     "data": {
      "image/png": "[encoded data removed]",
      "text/plain": [
       "<Figure size 864x576 with 1 Axes>"
      ]
     },
     "metadata": {
      "needs_background": "light"
     },
     "output_type": "display_data"
    }
   ],
   "source": [
    "x = np.linspace(-25, 25, 50000)\n",
    "\n",
    "# Определим значение функции в точке 0 как нулевое\n",
    "y = np.array([np.sin(el) / el - el / 10 for el in x])\n",
    "\n",
    "plt.figure(figsize=(12, 8))\n",
    "plt.title('График зависимости у от значений x')\n",
    "plt.grid()\n",
    "plt.plot(x, y);"
   ]
  },
  {
   "cell_type": "markdown",
   "id": "d89b7eb8",
   "metadata": {
    "id": "T4AE8d6D3FEp",
    "papermill": {
     "duration": 0.005579,
     "end_time": "2022-07-22T20:25:01.308529",
     "exception": false,
     "start_time": "2022-07-22T20:25:01.302950",
     "status": "completed"
    },
    "tags": []
   },
   "source": [
    "Зададим гиперпараметры, которые будут использоваться в дальнейшем."
   ]
  },
  {
   "cell_type": "code",
   "execution_count": 4,
   "id": "2ff25704",
   "metadata": {
    "execution": {
     "iopub.execute_input": "2022-07-22T20:25:01.321759Z",
     "iopub.status.busy": "2022-07-22T20:25:01.321191Z",
     "iopub.status.idle": "2022-07-22T20:25:01.326342Z",
     "shell.execute_reply": "2022-07-22T20:25:01.325354Z"
    },
    "id": "sRTmuvU-5Uw4",
    "papermill": {
     "duration": 0.014295,
     "end_time": "2022-07-22T20:25:01.328573",
     "exception": false,
     "start_time": "2022-07-22T20:25:01.314278",
     "status": "completed"
    },
    "tags": []
   },
   "outputs": [],
   "source": [
    "n_epochs = 75  # количество эпох\n",
    "lr = 0.0001  # шаг обучения\n",
    "\n",
    "b1 = 0.5  # гиперпараметр для оптимайзера Adam\n",
    "b2 = 0.999  # гиперпараметр для оптимайзера Adam\n",
    "\n",
    "latent_dim = 200  # Размерность случайного вектора, который подается на вход генератору\n",
    "\n",
    "sample_interval = 500  # количество итераций для отображения процесса обучения\n",
    "\n",
    "batch_size = 128"
   ]
  },
  {
   "cell_type": "markdown",
   "id": "db8db712",
   "metadata": {
    "id": "pbThohBJ2XQe",
    "papermill": {
     "duration": 0.006077,
     "end_time": "2022-07-22T20:25:01.340556",
     "exception": false,
     "start_time": "2022-07-22T20:25:01.334479",
     "status": "completed"
    },
    "tags": []
   },
   "source": [
    "Создадим класс датасета и затем определим даталоадеры для удобства процесса обучения."
   ]
  },
  {
   "cell_type": "code",
   "execution_count": 5,
   "id": "ccbcdd0d",
   "metadata": {
    "execution": {
     "iopub.execute_input": "2022-07-22T20:25:01.353870Z",
     "iopub.status.busy": "2022-07-22T20:25:01.353617Z",
     "iopub.status.idle": "2022-07-22T20:25:01.359964Z",
     "shell.execute_reply": "2022-07-22T20:25:01.359084Z"
    },
    "id": "_-3txO8wzzep",
    "papermill": {
     "duration": 0.015538,
     "end_time": "2022-07-22T20:25:01.361868",
     "exception": false,
     "start_time": "2022-07-22T20:25:01.346330",
     "status": "completed"
    },
    "tags": []
   },
   "outputs": [],
   "source": [
    "class FunctionDataset(torch.utils.data.Dataset):\n",
    "    def __init__(self, x, y, train=True):\n",
    "          self.data = x\n",
    "          self.values = y\n",
    "\n",
    "    def __len__(self):\n",
    "        return len(self.data)\n",
    "\n",
    "    def __getitem__(self, index):\n",
    "        return self.data[index], self.values[index]\n",
    "\n",
    "\n",
    "dataset = FunctionDataset(x, y)\n",
    "\n",
    "dataloader = torch.utils.data.DataLoader(dataset, \n",
    "                                          batch_size=batch_size, \n",
    "                                          shuffle=True,\n",
    "                                          num_workers=2)"
   ]
  },
  {
   "cell_type": "markdown",
   "id": "c6a9f49b",
   "metadata": {
    "id": "JYt4xgYLyYuD",
    "papermill": {
     "duration": 0.005603,
     "end_time": "2022-07-22T20:25:01.373192",
     "exception": false,
     "start_time": "2022-07-22T20:25:01.367589",
     "status": "completed"
    },
    "tags": []
   },
   "source": [
    "Определяем генератор и дискриминатор."
   ]
  },
  {
   "cell_type": "code",
   "execution_count": 6,
   "id": "6941e4e1",
   "metadata": {
    "execution": {
     "iopub.execute_input": "2022-07-22T20:25:01.385656Z",
     "iopub.status.busy": "2022-07-22T20:25:01.385416Z",
     "iopub.status.idle": "2022-07-22T20:25:01.393875Z",
     "shell.execute_reply": "2022-07-22T20:25:01.392910Z"
    },
    "id": "aqZ9_-j09PPH",
    "papermill": {
     "duration": 0.017178,
     "end_time": "2022-07-22T20:25:01.396112",
     "exception": false,
     "start_time": "2022-07-22T20:25:01.378934",
     "status": "completed"
    },
    "tags": []
   },
   "outputs": [],
   "source": [
    "class Generator(nn.Module):\n",
    "    def __init__(self):\n",
    "        super().__init__()\n",
    "        \n",
    "        self.activations = nn.ModuleDict([\n",
    "            ['lrelu', nn.LeakyReLU(0.2, inplace=True)],\n",
    "            ['relu', nn.ReLU()]\n",
    "        ])\n",
    "        \n",
    "        def block(in_feat, out_feat, normalize=True, activation='relu'):\n",
    "            layers = [nn.Linear(in_feat, out_feat)]  \n",
    "            \n",
    "            if normalize:\n",
    "                layers.append(nn.BatchNorm1d(out_feat))\n",
    "\n",
    "            layers.append(self.activations[activation])\n",
    "            return layers\n",
    "\n",
    "        self.model = nn.Sequential(\n",
    "            *block(latent_dim, 128, normalize=False),\n",
    "            *block(128, 256, activation='lrelu'),\n",
    "            *block(256, 512, activation='lrelu'),\n",
    "            *block(512, 1024),\n",
    "            nn.Linear(1024, 2),\n",
    "        )\n",
    "        self.double()\n",
    "\n",
    "    def forward(self, z):\n",
    "        pred = self.model(z)\n",
    "        return pred"
   ]
  },
  {
   "cell_type": "code",
   "execution_count": 7,
   "id": "6e55cc30",
   "metadata": {
    "execution": {
     "iopub.execute_input": "2022-07-22T20:25:01.408901Z",
     "iopub.status.busy": "2022-07-22T20:25:01.408656Z",
     "iopub.status.idle": "2022-07-22T20:25:01.417636Z",
     "shell.execute_reply": "2022-07-22T20:25:01.416767Z"
    },
    "id": "8mZE_8O19O2B",
    "papermill": {
     "duration": 0.017604,
     "end_time": "2022-07-22T20:25:01.419506",
     "exception": false,
     "start_time": "2022-07-22T20:25:01.401902",
     "status": "completed"
    },
    "tags": []
   },
   "outputs": [],
   "source": [
    "class Discriminator(nn.Module):\n",
    "    def __init__(self):\n",
    "        super().__init__()\n",
    "\n",
    "        self.activations = nn.ModuleDict([\n",
    "            ['lrelu', nn.LeakyReLU(0.2, inplace=True)],\n",
    "            ['relu', nn.ReLU()],\n",
    "            ['sigmoid', nn.Sigmoid()],\n",
    "        ])\n",
    "\n",
    "        def block(in_feat, out_feat, normalize=False, activation='lrelu'):\n",
    "            layers = [nn.Linear(in_feat, out_feat)]\n",
    "            \n",
    "            if normalize:\n",
    "                layers.append(nn.BatchNorm1d(out_feat))\n",
    "                \n",
    "            layers.append(self.activations[activation]) \n",
    "            \n",
    "            return layers\n",
    "\n",
    "        self.model = nn.Sequential(\n",
    "            *block(2, 1024),\n",
    "            *block(1024, 512),\n",
    "            *block(512, 256),\n",
    "            *block(256, 1, activation='sigmoid'),\n",
    "        )\n",
    "        \n",
    "        self.double()\n",
    "  \n",
    "\n",
    "    def forward(self, x):\n",
    "        validity = self.model(x)\n",
    "        return validity"
   ]
  },
  {
   "cell_type": "code",
   "execution_count": 8,
   "id": "5c469176",
   "metadata": {
    "execution": {
     "iopub.execute_input": "2022-07-22T20:25:01.432515Z",
     "iopub.status.busy": "2022-07-22T20:25:01.431749Z",
     "iopub.status.idle": "2022-07-22T20:25:04.474377Z",
     "shell.execute_reply": "2022-07-22T20:25:04.473404Z"
    },
    "id": "Ywc9T2JjEM7W",
    "papermill": {
     "duration": 3.051925,
     "end_time": "2022-07-22T20:25:04.477147",
     "exception": false,
     "start_time": "2022-07-22T20:25:01.425222",
     "status": "completed"
    },
    "tags": []
   },
   "outputs": [],
   "source": [
    "generator = Generator().to(device)\n",
    "discriminator = Discriminator().to(device)\n",
    "\n",
    "# Для каждой нейронки свой опитимизатор\n",
    "optimizer_G = torch.optim.Adam(\n",
    "    generator.parameters(),\n",
    "    lr=lr, \n",
    "    betas=(b1, b2)\n",
    ")\n",
    "optimizer_D = torch.optim.Adam(\n",
    "    discriminator.parameters(), \n",
    "    lr=lr, \n",
    "    betas=(b1, b2)\n",
    ")\n",
    "\n",
    "# Но вот функция ошибки у нас будет одна общая\n",
    "adversarial_loss = torch.nn.BCELoss()"
   ]
  },
  {
   "cell_type": "code",
   "execution_count": 9,
   "id": "6934eee5",
   "metadata": {
    "execution": {
     "iopub.execute_input": "2022-07-22T20:25:04.498154Z",
     "iopub.status.busy": "2022-07-22T20:25:04.497473Z",
     "iopub.status.idle": "2022-07-22T20:30:05.645993Z",
     "shell.execute_reply": "2022-07-22T20:30:05.644986Z"
    },
    "id": "a-KeA8mzFqPr",
    "outputId": "dac27b36-342a-42cf-fee6-4ceae3659ee6",
    "papermill": {
     "duration": 301.161452,
     "end_time": "2022-07-22T20:30:05.648204",
     "exception": false,
     "start_time": "2022-07-22T20:25:04.486752",
     "status": "completed"
    },
    "tags": []
   },
   "outputs": [
    {
     "name": "stdout",
     "output_type": "stream",
     "text": [
      "[Epoch 74/75] [Batch 66/391]|[D loss: 0.694675171757245] [G loss: 0.6656771702782618]\n"
     ]
    },
    {
     "data": {
      "image/png": "[encoded data removed]",
      "text/plain": [
       "<Figure size 432x288 with 1 Axes>"
      ]
     },
     "metadata": {
      "needs_background": "light"
     },
     "output_type": "display_data"
    }
   ],
   "source": [
    "d_loss_history = []\n",
    "g_loss_history = []\n",
    "\n",
    "for epoch in range(n_epochs):\n",
    "    for i, (x_val, y_val) in enumerate(dataloader):\n",
    "        \n",
    "##################### Лейблы для данных: 1 - настоящие, 0 - сгенерированные ########\n",
    "        valid = torch.DoubleTensor(len(x_val), 1).fill_(1.0).to(device)\n",
    "        fake = torch.DoubleTensor(len(x_val), 1).fill_(0.0).to(device)\n",
    "\n",
    "        real_xy_values = torch.stack((x_val.to(device), y_val.to(device)), -1)\n",
    "\n",
    "        # Генерация шума\n",
    "        z = torch.DoubleTensor(np.random.uniform(-1, 1, (len(x_val), latent_dim))).to(device)\n",
    "        \n",
    "        # Генерируем данные Генератором на основе шума\n",
    "        gen_xy_values = generator(z)\n",
    "        \n",
    "######################  Тренировка дискриминатора    ##########################\n",
    "        \n",
    "        # Получаем предсказания дискриминатора на основе реальных данных\n",
    "        real_pred = discriminator(real_xy_values)\n",
    "        \n",
    "        # Тут сравниваем предсказанные значения Дискриминатора(на основе настоящих данных) с настоящими\n",
    "        d_real_loss = adversarial_loss(real_pred, valid)\n",
    "        \n",
    "        # Подаем сгенерированые данные на Дискриминатор \n",
    "        fake_pred = discriminator(gen_xy_values)\n",
    "        \n",
    "        # расчитываем ошибку предсказанного с фейковыми лейблами\n",
    "        d_fake_loss = adversarial_loss(fake_pred, fake)\n",
    "        \n",
    "        # И усредняем два лосса в один\n",
    "        d_loss = (d_real_loss + d_fake_loss) / 2\n",
    "\n",
    "        optimizer_D.zero_grad()\n",
    "        d_loss.backward()\n",
    "        optimizer_D.step()\n",
    "\n",
    "######################  Тренировка генератора    ##########################\n",
    "        \n",
    "        # генерация шума\n",
    "        z = torch.DoubleTensor(np.random.uniform(-1, 1, (len(x_val), latent_dim))).to(device)\n",
    "        \n",
    "        # # Генерируем данные Генератором на основе шума\n",
    "        gen_xy_values = generator(z)\n",
    "\n",
    "        # Подаем сгенерированые данные на Дискриминатор \n",
    "        fake_pred = discriminator(gen_xy_values)\n",
    "        g_loss = adversarial_loss(fake_pred, valid)\n",
    "\n",
    "        optimizer_G.zero_grad()\n",
    "        g_loss.backward()\n",
    "        optimizer_G.step()\n",
    "\n",
    "        \n",
    "######## Отображение процесса обучения и вывод функций потерь ############\n",
    "        batches_done = epoch * len(dataloader) + i\n",
    "    \n",
    "        if batches_done % sample_interval == 0:\n",
    "            with torch.no_grad():\n",
    "                plt.clf()\n",
    "\n",
    "                display.clear_output(wait=False)\n",
    "                print(f\"[Epoch {epoch}/{n_epochs}] [Batch {i}/{len(dataloader)}]\", end='|')\n",
    "                print(f'[D loss: {d_loss.item()}] [G loss: {g_loss.item()}]') \n",
    "\n",
    "                d_loss = d_loss.cpu().detach()\n",
    "                g_loss = g_loss.cpu().detach()\n",
    "\n",
    "\n",
    "                d_loss_history.append(d_loss)\n",
    "                g_loss_history.append(g_loss)\n",
    "\n",
    "                plt.plot(np.array(d_loss_history), label='D loss')\n",
    "                plt.plot(np.array(g_loss_history), label='G loss')\n",
    "                plt.legend();"
   ]
  },
  {
   "cell_type": "markdown",
   "id": "c5c9e89b",
   "metadata": {
    "papermill": {
     "duration": 0.006346,
     "end_time": "2022-07-22T20:30:05.661515",
     "exception": false,
     "start_time": "2022-07-22T20:30:05.655169",
     "status": "completed"
    },
    "tags": []
   },
   "source": [
    "Воспользуемся построенным генератором и создадим значения на основе случайного шума."
   ]
  },
  {
   "cell_type": "code",
   "execution_count": 10,
   "id": "0d2b6fa7",
   "metadata": {
    "execution": {
     "iopub.execute_input": "2022-07-22T20:30:05.675606Z",
     "iopub.status.busy": "2022-07-22T20:30:05.675325Z",
     "iopub.status.idle": "2022-07-22T20:30:05.681721Z",
     "shell.execute_reply": "2022-07-22T20:30:05.680889Z"
    },
    "id": "P5McdzdSg-hR",
    "papermill": {
     "duration": 0.016038,
     "end_time": "2022-07-22T20:30:05.683813",
     "exception": false,
     "start_time": "2022-07-22T20:30:05.667775",
     "status": "completed"
    },
    "tags": []
   },
   "outputs": [],
   "source": [
    "z = torch.DoubleTensor(np.random.uniform(-25, 25, (batch_size, latent_dim))).to(device)\n",
    "\n",
    "gen_xy_values = generator(z)"
   ]
  },
  {
   "cell_type": "markdown",
   "id": "ebc1e936",
   "metadata": {
    "papermill": {
     "duration": 0.006841,
     "end_time": "2022-07-22T20:30:05.697432",
     "exception": false,
     "start_time": "2022-07-22T20:30:05.690591",
     "status": "completed"
    },
    "tags": []
   },
   "source": [
    "Посмотрим на случайную точку из сгенерированных."
   ]
  },
  {
   "cell_type": "code",
   "execution_count": 11,
   "id": "826a254c",
   "metadata": {
    "execution": {
     "iopub.execute_input": "2022-07-22T20:30:05.711191Z",
     "iopub.status.busy": "2022-07-22T20:30:05.710923Z",
     "iopub.status.idle": "2022-07-22T20:30:05.718374Z",
     "shell.execute_reply": "2022-07-22T20:30:05.717249Z"
    },
    "id": "Eos3RFw1hOgU",
    "outputId": "57e1ba11-f458-482b-9568-009496d684c7",
    "papermill": {
     "duration": 0.017405,
     "end_time": "2022-07-22T20:30:05.721063",
     "exception": false,
     "start_time": "2022-07-22T20:30:05.703658",
     "status": "completed"
    },
    "tags": []
   },
   "outputs": [
    {
     "name": "stdout",
     "output_type": "stream",
     "text": [
      "x_gen = -19.3719\n",
      "y_gen = 2.0067\n",
      "y_true = 1.9629\n"
     ]
    }
   ],
   "source": [
    "i = 10\n",
    "x_gen = gen_xy_values[i].cpu().detach().numpy()[0]\n",
    "print(f'x_gen = {x_gen:.4f}')\n",
    "print(f'y_gen = {gen_xy_values[i].cpu().detach().numpy()[1]:.4f}')\n",
    "print(f'y_true = {np.sin(x_gen) / x_gen - x_gen / 10:.4f}')"
   ]
  },
  {
   "cell_type": "code",
   "execution_count": 12,
   "id": "7c238416",
   "metadata": {
    "execution": {
     "iopub.execute_input": "2022-07-22T20:30:05.737199Z",
     "iopub.status.busy": "2022-07-22T20:30:05.736938Z",
     "iopub.status.idle": "2022-07-22T20:30:05.753110Z",
     "shell.execute_reply": "2022-07-22T20:30:05.752083Z"
    },
    "id": "spmu77i-DlB6",
    "outputId": "d9cad566-279b-46e0-f4c8-53a45b99ccee",
    "papermill": {
     "duration": 0.027721,
     "end_time": "2022-07-22T20:30:05.755524",
     "exception": false,
     "start_time": "2022-07-22T20:30:05.727803",
     "status": "completed"
    },
    "tags": []
   },
   "outputs": [
    {
     "name": "stdout",
     "output_type": "stream",
     "text": [
      "Mean error: 0.047513\n"
     ]
    }
   ],
   "source": [
    "error = 0\n",
    "for i in range(len(gen_xy_values)):\n",
    "    x_gen = gen_xy_values[i].detach().cpu().numpy()[0]\n",
    "    y_gen = gen_xy_values[i].detach().cpu().numpy()[1]\n",
    "    y_true = np.sin(x_gen) / x_gen - x_gen / 10\n",
    "    error += abs(y_true - y_gen)\n",
    "\n",
    "print(f'Mean error: {error/len(gen_xy_values):.6f}')"
   ]
  },
  {
   "cell_type": "markdown",
   "id": "1a661578",
   "metadata": {
    "papermill": {
     "duration": 0.00703,
     "end_time": "2022-07-22T20:30:05.769759",
     "exception": false,
     "start_time": "2022-07-22T20:30:05.762729",
     "status": "completed"
    },
    "tags": []
   },
   "source": [
    "Сравним реальные и сгенерированные значения на графике."
   ]
  },
  {
   "cell_type": "code",
   "execution_count": 13,
   "id": "4c492d9a",
   "metadata": {
    "execution": {
     "iopub.execute_input": "2022-07-22T20:30:05.784762Z",
     "iopub.status.busy": "2022-07-22T20:30:05.784333Z",
     "iopub.status.idle": "2022-07-22T20:30:06.007007Z",
     "shell.execute_reply": "2022-07-22T20:30:06.005999Z"
    },
    "id": "p2_NpV8WGiX7",
    "outputId": "a779271d-6531-4d65-a6ea-42ab9a049d78",
    "papermill": {
     "duration": 0.23226,
     "end_time": "2022-07-22T20:30:06.008988",
     "exception": false,
     "start_time": "2022-07-22T20:30:05.776728",
     "status": "completed"
    },
    "tags": []
   },
   "outputs": [
    {
     "data": {
      "image/png": "[encoded data removed]",
      "text/plain": [
       "<Figure size 864x576 with 1 Axes>"
      ]
     },
     "metadata": {
      "needs_background": "light"
     },
     "output_type": "display_data"
    }
   ],
   "source": [
    "p = gen_xy_values.cpu().detach().numpy()[:,0].argsort()\n",
    "\n",
    "plt.figure(figsize=(12, 8))\n",
    "plt.title('График зависимости у от значений x')\n",
    "plt.grid()\n",
    "plt.plot(gen_xy_values.cpu().detach().numpy()[:,0][p], gen_xy_values.cpu().detach().numpy()[:,1][p], \n",
    "         label='Generated')\n",
    "plt.plot(x, y, label='True')\n",
    "plt.legend();"
   ]
  }
 ],
 "metadata": {
  "kernelspec": {
   "display_name": "Python 3",
   "language": "python",
   "name": "python3"
  },
  "language_info": {
   "codemirror_mode": {
    "name": "ipython",
    "version": 3
   },
   "file_extension": ".py",
   "mimetype": "text/x-python",
   "name": "python",
   "nbconvert_exporter": "python",
   "pygments_lexer": "ipython3",
   "version": "3.7.12"
  },
  "papermill": {
   "default_parameters": {},
   "duration": 318.156127,
   "end_time": "2022-07-22T20:30:07.648944",
   "environment_variables": {},
   "exception": null,
   "input_path": "__notebook__.ipynb",
   "output_path": "__notebook__.ipynb",
   "parameters": {},
   "start_time": "2022-07-22T20:24:49.492817",
   "version": "2.3.4"
  }
 },
 "nbformat": 4,
 "nbformat_minor": 5
}
